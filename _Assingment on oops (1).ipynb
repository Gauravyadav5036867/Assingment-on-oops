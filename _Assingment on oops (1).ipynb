{
 "cells": [
  {
   "cell_type": "code",
   "execution_count": 1,
   "id": "ed592cf6-6555-4dc0-80fa-5eb67efbc2a9",
   "metadata": {},
   "outputs": [],
   "source": [
    "# question 1\n"
   ]
  },
  {
   "cell_type": "code",
   "execution_count": 2,
   "id": "cdee5612-39bb-4559-8555-14c9bec75d54",
   "metadata": {},
   "outputs": [
    {
     "name": "stdout",
     "output_type": "stream",
     "text": [
      "Vehicle Name: Toyota Camry\n",
      "Max Speed: 140 km/h\n",
      "Average Fuel Efficiency: 30 miles per gallon\n"
     ]
    }
   ],
   "source": [
    "class Vehicle:\n",
    "    def __init__(self, name_of_vehicle, max_speed, average_of_vehicle):\n",
    "        self.name_of_vehicle = name_of_vehicle\n",
    "        self.max_speed = max_speed\n",
    "        self.average_of_vehicle = average_of_vehicle\n",
    "\n",
    "# Example usage:\n",
    "car = Vehicle(\"Toyota Camry\", 140, 30)\n",
    "print(\"Vehicle Name:\", car.name_of_vehicle)\n",
    "print(\"Max Speed:\", car.max_speed, \"km/h\")\n",
    "print(\"Average Fuel Efficiency:\", car.average_of_vehicle, \"miles per gallon\")\n"
   ]
  },
  {
   "cell_type": "code",
   "execution_count": 3,
   "id": "0103bf82-765c-4e40-ab14-08684539caf3",
   "metadata": {},
   "outputs": [],
   "source": [
    "# question 2"
   ]
  },
  {
   "cell_type": "code",
   "execution_count": 4,
   "id": "bc6a030f-ce92-4ed2-96fb-b4e258d75517",
   "metadata": {},
   "outputs": [
    {
     "name": "stdout",
     "output_type": "stream",
     "text": [
      "Toyota Camry has a seating capacity of 5 passengers.\n"
     ]
    }
   ],
   "source": [
    "class Vehicle:\n",
    "    def __init__(self, name_of_vehicle, max_speed, average_of_vehicle):\n",
    "        self.name_of_vehicle = name_of_vehicle\n",
    "        self.max_speed = max_speed\n",
    "        self.average_of_vehicle = average_of_vehicle\n",
    "\n",
    "class Car(Vehicle):\n",
    "    def __init__(self, name_of_vehicle, max_speed, average_of_vehicle):\n",
    "        super().__init__(name_of_vehicle, max_speed, average_of_vehicle)\n",
    "\n",
    "    def seating_capacity(self, capacity):\n",
    "        return f\"{self.name_of_vehicle} has a seating capacity of {capacity} passengers.\"\n",
    "\n",
    "# Example usage:\n",
    "car = Car(\"Toyota Camry\", 140, 30)\n",
    "capacity = 5\n",
    "print(car.seating_capacity(capacity))\n"
   ]
  },
  {
   "cell_type": "code",
   "execution_count": 7,
   "id": "e23b6409-1f8a-4285-ab58-4971b05777b9",
   "metadata": {},
   "outputs": [],
   "source": [
    "# question 3"
   ]
  },
  {
   "cell_type": "code",
   "execution_count": null,
   "id": "5ea23ba3-8985-4c1b-9be6-4075fdf4f4db",
   "metadata": {},
   "outputs": [],
   "source": [
    "Multiple inheritance is a feature in object-oriented programming where a class can inherit attributes and methods from more than one parent class. This allows a child class to inherit and combine features from multiple parent classes. "
   ]
  },
  {
   "cell_type": "code",
   "execution_count": 8,
   "id": "48b841ce-c8c8-461e-bf48-f125f0b8c794",
   "metadata": {},
   "outputs": [
    {
     "name": "stdout",
     "output_type": "stream",
     "text": [
      "In Class2\n"
     ]
    }
   ],
   "source": [
    "\n",
    "# Python Program to depict multiple inheritance\n",
    "# when method is overridden in both classes\n",
    " \n",
    "class Class1:\n",
    "    def m(self):\n",
    "        print(\"In Class1\")\n",
    "       \n",
    "class Class2(Class1):\n",
    "    def m(self):\n",
    "        print(\"In Class2\")\n",
    " \n",
    "class Class3(Class1):\n",
    "    def m(self):\n",
    "        print(\"In Class3\") \n",
    "        \n",
    "class Class4(Class2, Class3):\n",
    "    pass  \n",
    "     \n",
    "obj = Class4()\n",
    "obj.m()"
   ]
  },
  {
   "cell_type": "code",
   "execution_count": 9,
   "id": "2b7b5afc-f6b3-462b-81fd-2e0cc8d19b2d",
   "metadata": {},
   "outputs": [],
   "source": [
    "# question 4"
   ]
  },
  {
   "cell_type": "code",
   "execution_count": null,
   "id": "a472d3a4-a649-43b4-932f-d96584c924c5",
   "metadata": {},
   "outputs": [],
   "source": [
    "Getter: A method that allows you to access an attribute in a given class. Setter: A method that allows you to set or mutate the value of an attribute in a class."
   ]
  },
  {
   "cell_type": "code",
   "execution_count": 12,
   "id": "0630d74e-97d2-4db2-8b9e-0a9e730b507e",
   "metadata": {},
   "outputs": [
    {
     "name": "stdout",
     "output_type": "stream",
     "text": [
      "42\n"
     ]
    }
   ],
   "source": [
    "class MyClass:\n",
    "    def __init__(self):\n",
    "        self._my_variable = None  # Private variable with a leading underscore\n",
    "\n",
    "    # Getter method\n",
    "    def get_my_variable(self):\n",
    "        return self._my_variable\n",
    "\n",
    "    # Setter method\n",
    "    def set_my_variable(self, value):\n",
    "        self._my_variable = value\n",
    "\n",
    "# Create an instance of the class\n",
    "my_instance = MyClass()\n",
    "\n",
    "# Using the setter method to set the variable\n",
    "my_instance.set_my_variable(42)\n",
    "\n",
    "# Using the getter method to retrieve the variable\n",
    "value = my_instance.get_my_variable()\n",
    "print(value)  \n"
   ]
  },
  {
   "cell_type": "code",
   "execution_count": 13,
   "id": "16256e43-10df-4d24-bdf9-eaea74e031b2",
   "metadata": {},
   "outputs": [],
   "source": [
    "# question 5"
   ]
  },
  {
   "cell_type": "code",
   "execution_count": null,
   "id": "335ed620-a17e-481d-8e3d-2251312964d9",
   "metadata": {},
   "outputs": [],
   "source": [
    "Method overriding in Python is when you have two methods with the same name that each perform different tasks"
   ]
  },
  {
   "cell_type": "code",
   "execution_count": 14,
   "id": "e8dce1e8-14ff-432f-9c7a-0ef36f5e6d4e",
   "metadata": {},
   "outputs": [
    {
     "name": "stdout",
     "output_type": "stream",
     "text": [
      "Inside Parent\n",
      "Inside Child\n"
     ]
    }
   ],
   "source": [
    "# Python program to demonstrate \n",
    "# method overriding\n",
    "  \n",
    "  \n",
    "# Defining parent class\n",
    "class Parent():\n",
    "      \n",
    "    # Constructor\n",
    "    def __init__(self):\n",
    "        self.value = \"Inside Parent\"\n",
    "          \n",
    "    # Parent's show method\n",
    "    def show(self):\n",
    "        print(self.value)\n",
    "          \n",
    "# Defining child class\n",
    "class Child(Parent):\n",
    "      \n",
    "    # Constructor\n",
    "    def __init__(self):\n",
    "        self.value = \"Inside Child\"\n",
    "          \n",
    "    # Child's show method\n",
    "    def show(self):\n",
    "        print(self.value)\n",
    "          \n",
    "          \n",
    "# Driver's code\n",
    "obj1 = Parent()\n",
    "obj2 = Child()\n",
    "  \n",
    "obj1.show()\n",
    "obj2.show()"
   ]
  },
  {
   "cell_type": "code",
   "execution_count": null,
   "id": "4073fa1b-bc5f-4f5c-bae0-ca6af8812f9e",
   "metadata": {},
   "outputs": [],
   "source": []
  }
 ],
 "metadata": {
  "kernelspec": {
   "display_name": "Python 3 (ipykernel)",
   "language": "python",
   "name": "python3"
  },
  "language_info": {
   "codemirror_mode": {
    "name": "ipython",
    "version": 3
   },
   "file_extension": ".py",
   "mimetype": "text/x-python",
   "name": "python",
   "nbconvert_exporter": "python",
   "pygments_lexer": "ipython3",
   "version": "3.10.8"
  }
 },
 "nbformat": 4,
 "nbformat_minor": 5
}
